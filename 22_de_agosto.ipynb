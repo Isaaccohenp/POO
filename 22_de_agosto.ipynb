{
  "nbformat": 4,
  "nbformat_minor": 0,
  "metadata": {
    "colab": {
      "provenance": []
    },
    "kernelspec": {
      "name": "python3",
      "display_name": "Python 3"
    },
    "language_info": {
      "name": "python"
    }
  },
  "cells": [
    {
      "cell_type": "markdown",
      "source": [
        "# Clases y polimorfismos"
      ],
      "metadata": {
        "id": "0Pl0eAvqMnjP"
      }
    },
    {
      "cell_type": "code",
      "source": [
        "class PrimeNumber:\n",
        "  def __init__(self, number):\n",
        "    self.number = number\n",
        "\n",
        "  def is_prime(self) :\n",
        "    if self.number < 2:\n",
        "      return False\n",
        "    for i in range(2, int(self.number ** 0.5) + 1):\n",
        "      if self.number % i == 0:\n",
        "        return False\n",
        "    return True\n",
        "\n",
        "class PositivePrimeNumber(PrimeNumber):\n",
        "  def __init__(self, number):\n",
        "    if number <= 0:\n",
        "      raise ValueError(\"El numero debe ser positivo\")\n",
        "    super().__init__(number)\n",
        "\n",
        "# example usage:\n",
        "num1 = PrimeNumber(2)\n",
        "print(num1.is_prime()) # Output: True\n",
        "\n"
      ],
      "metadata": {
        "colab": {
          "base_uri": "https://localhost:8080/"
        },
        "id": "SKru3ZlLMu0F",
        "outputId": "81ed6a6f-a248-4c97-d995-0981f63f5605"
      },
      "execution_count": null,
      "outputs": [
        {
          "output_type": "stream",
          "name": "stdout",
          "text": [
            "True\n"
          ]
        }
      ]
    },
    {
      "cell_type": "code",
      "source": [
        "num2 = PrimeNumber(8)\n",
        "num2.is_prime()"
      ],
      "metadata": {
        "colab": {
          "base_uri": "https://localhost:8080/"
        },
        "id": "uSPr7kgbOeOg",
        "outputId": "a4de3aa0-9578-4af6-80e1-c9b5891be852"
      },
      "execution_count": null,
      "outputs": [
        {
          "output_type": "execute_result",
          "data": {
            "text/plain": [
              "False"
            ]
          },
          "metadata": {},
          "execution_count": 5
        }
      ]
    },
    {
      "cell_type": "code",
      "source": [
        "num2 = PositivePrimeNumber(11)\n",
        "print(num2.is_prime())"
      ],
      "metadata": {
        "colab": {
          "base_uri": "https://localhost:8080/"
        },
        "id": "JlNPHgVtR13X",
        "outputId": "21c2f5eb-d244-475a-d34f-17e104d0c1d6"
      },
      "execution_count": null,
      "outputs": [
        {
          "output_type": "stream",
          "name": "stdout",
          "text": [
            "True\n"
          ]
        }
      ]
    },
    {
      "cell_type": "code",
      "source": [],
      "metadata": {
        "id": "op8wPvprTD3e"
      },
      "execution_count": null,
      "outputs": []
    }
  ]
}